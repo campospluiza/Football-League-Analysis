{
 "cells": [
  {
   "cell_type": "markdown",
   "metadata": {},
   "source": [
    "## Programación II - 2° Parcial "
   ]
  },
  {
   "cell_type": "markdown",
   "metadata": {},
   "source": [
    "\n",
    "**Elección del problema**\n",
    "\n",
    "El problema que elegido para este proyecto es analizar los salarios de los futbolistas en las principales ligas del mundo. Este es un problema relevante porque el fútbol es un deporte muy popular y los salarios de los futbolistas son un tema de interés público. \n",
    "\n",
    "Este problema nos permite aplicar los conocimientos adquiridos en las clases sobre Numpy, Pandas, Matplotlib y Seaborn. Podemos utilizar estas librerías para realizar análisis descriptivos, exploratorios y de correlación de los datos.\n",
    "\n",
    "\n",
    "\n",
    "Fuente de datos:  https://www.kaggle.com/datasets/ultimus/football-wages-prediction/data\n"
   ]
  },
  {
   "cell_type": "markdown",
   "metadata": {},
   "source": [
    "\n",
    "**Etapa 1: Obtención de los datos**\n",
    "\n",
    "Los datos que utilizamos para este proyecto son un conjunto de datos de salarios en el fútbol que se puede descargar de Kaggle. El conjunto de datos contiene información sobre los salarios, la edad, la nacionalidad, la posición y el club de más de 3900 futbolistas de las seis principales ligas del mundo:\n",
    "\n",
    "* Premier League (Inglaterra)\n",
    "* La Liga (España)\n",
    "* Bundesliga (Alemania)\n",
    "* Serie A (Italia)\n",
    "* Ligue 1 (Francia)\n",
    "* Primeira Liga (Portugal)\n",
    "\n",
    "En esta etapa debes explorar los datos: características que tiene tu dataframe. \n",
    "\n",
    "**Etapa 2: Preparación de los datos**\n",
    "\n",
    "Antes de realizar el análisis, es necesario preparar los datos. Esto incluye tareas tales como:\n",
    "\n",
    "* Elimina las filas con datos faltantes en las columnas \"Wage\" (salario) y \"Age\" (edad). También convertimos la columna \"Wage\" a tipo de datos flotante.**\n",
    "\n",
    "**Etapa 3: Análisis de los datos**\n",
    "\n",
    "En esta etapa realiza un análisis descriptivo de los datos para obtener una visión general de los salarios de los futbolistas en las principales ligas del mundo. Realiza un análisis exploratorio para identificar patrones y tendencias en los datos. Debes calcular las siguientes estadísticas descriptivas para cada liga:\n",
    "\n",
    "* Media\n",
    "* Mediana\n",
    "* Desviación estándar\n",
    "* Rango\n",
    "\n",
    "También realiza un análisis exploratorio de las siguientes variables y sus combinaciones:\n",
    "\n",
    "* Salario\n",
    "* Edad\n",
    "* Nacionalidad\n",
    "* Posición\n",
    "* Club\n",
    "\n",
    "**Etapa 4: Presentación de los resultados**\n",
    "\n",
    "Presenta los resultados del análisis utilizando gráficos  para visualizar los resultados de forma más atractiva. \n",
    "\n",
    "### **¡Que disfrutes este trabajo!**"
   ]
  },
  {
   "attachments": {},
   "cell_type": "markdown",
   "metadata": {},
   "source": [
    "Etapa 1: Obtención de los datos"
   ]
  },
  {
   "attachments": {},
   "cell_type": "markdown",
   "metadata": {},
   "source": [
    "1.1 El primer paso que adopté fue descargar los datos desde Kaggle, resultando en un archivo CSV. Como aprendido al largo de la cursada este cuatrimestre, utilizaré las librerías Pandas, Numpy, Matplotlib y Seaborn. Considerando eso, el primer paso para que pueda trabajar será importar las dichas librerías."
   ]
  },
  {
   "cell_type": "code",
   "execution_count": 2,
   "metadata": {},
   "outputs": [],
   "source": [
    "import numpy as np\n",
    "import pandas as pd\n",
    "import matplotlib.pyplot as plt\n",
    "import seaborn as sns"
   ]
  },
  {
   "attachments": {},
   "cell_type": "markdown",
   "metadata": {},
   "source": [
    "1.2 Una vez que ya cuento con las librerías necesarias para trabajar, voy a cargar mi archivo csv usando pandas."
   ]
  },
  {
   "cell_type": "code",
   "execution_count": 3,
   "metadata": {},
   "outputs": [],
   "source": [
    "football = pd.read_csv('SalaryPrediction.csv')"
   ]
  },
  {
   "attachments": {},
   "cell_type": "markdown",
   "metadata": {},
   "source": [
    "1.3 Ahora puedo explorar las características de mi dataframe. Usando 'head' evaluo las 5 primeras líneas, ya usando info puedo ver información general acerca de mi dataframe. "
   ]
  },
  {
   "cell_type": "code",
   "execution_count": 4,
   "metadata": {},
   "outputs": [
    {
     "data": {
      "text/html": [
       "<div>\n",
       "<style scoped>\n",
       "    .dataframe tbody tr th:only-of-type {\n",
       "        vertical-align: middle;\n",
       "    }\n",
       "\n",
       "    .dataframe tbody tr th {\n",
       "        vertical-align: top;\n",
       "    }\n",
       "\n",
       "    .dataframe thead th {\n",
       "        text-align: right;\n",
       "    }\n",
       "</style>\n",
       "<table border=\"1\" class=\"dataframe\">\n",
       "  <thead>\n",
       "    <tr style=\"text-align: right;\">\n",
       "      <th></th>\n",
       "      <th>Wage</th>\n",
       "      <th>Age</th>\n",
       "      <th>Club</th>\n",
       "      <th>League</th>\n",
       "      <th>Nation</th>\n",
       "      <th>Position</th>\n",
       "      <th>Apps</th>\n",
       "      <th>Caps</th>\n",
       "    </tr>\n",
       "  </thead>\n",
       "  <tbody>\n",
       "    <tr>\n",
       "      <th>0</th>\n",
       "      <td>46,427,000</td>\n",
       "      <td>23</td>\n",
       "      <td>PSG</td>\n",
       "      <td>Ligue 1 Uber Eats</td>\n",
       "      <td>FRA</td>\n",
       "      <td>Forward</td>\n",
       "      <td>190</td>\n",
       "      <td>57</td>\n",
       "    </tr>\n",
       "    <tr>\n",
       "      <th>1</th>\n",
       "      <td>42,125,000</td>\n",
       "      <td>30</td>\n",
       "      <td>PSG</td>\n",
       "      <td>Ligue 1 Uber Eats</td>\n",
       "      <td>BRA</td>\n",
       "      <td>Midfilder</td>\n",
       "      <td>324</td>\n",
       "      <td>119</td>\n",
       "    </tr>\n",
       "    <tr>\n",
       "      <th>2</th>\n",
       "      <td>34,821,000</td>\n",
       "      <td>35</td>\n",
       "      <td>PSG</td>\n",
       "      <td>Ligue 1 Uber Eats</td>\n",
       "      <td>ARG</td>\n",
       "      <td>Forward</td>\n",
       "      <td>585</td>\n",
       "      <td>162</td>\n",
       "    </tr>\n",
       "    <tr>\n",
       "      <th>3</th>\n",
       "      <td>19,959,000</td>\n",
       "      <td>31</td>\n",
       "      <td>R. Madrid</td>\n",
       "      <td>La Liga</td>\n",
       "      <td>BEL</td>\n",
       "      <td>Forward</td>\n",
       "      <td>443</td>\n",
       "      <td>120</td>\n",
       "    </tr>\n",
       "    <tr>\n",
       "      <th>4</th>\n",
       "      <td>19,500,000</td>\n",
       "      <td>31</td>\n",
       "      <td>Man UFC</td>\n",
       "      <td>Premier League</td>\n",
       "      <td>ESP</td>\n",
       "      <td>Goalkeeper</td>\n",
       "      <td>480</td>\n",
       "      <td>45</td>\n",
       "    </tr>\n",
       "  </tbody>\n",
       "</table>\n",
       "</div>"
      ],
      "text/plain": [
       "         Wage  Age       Club             League Nation    Position  Apps  \\\n",
       "0  46,427,000   23        PSG  Ligue 1 Uber Eats    FRA     Forward   190   \n",
       "1  42,125,000   30        PSG  Ligue 1 Uber Eats    BRA   Midfilder   324   \n",
       "2  34,821,000   35        PSG  Ligue 1 Uber Eats    ARG     Forward   585   \n",
       "3  19,959,000   31  R. Madrid            La Liga    BEL     Forward   443   \n",
       "4  19,500,000   31    Man UFC     Premier League    ESP  Goalkeeper   480   \n",
       "\n",
       "   Caps  \n",
       "0    57  \n",
       "1   119  \n",
       "2   162  \n",
       "3   120  \n",
       "4    45  "
      ]
     },
     "execution_count": 4,
     "metadata": {},
     "output_type": "execute_result"
    }
   ],
   "source": [
    "football.head()"
   ]
  },
  {
   "cell_type": "code",
   "execution_count": 5,
   "metadata": {},
   "outputs": [
    {
     "name": "stdout",
     "output_type": "stream",
     "text": [
      "<class 'pandas.core.frame.DataFrame'>\n",
      "RangeIndex: 3907 entries, 0 to 3906\n",
      "Data columns (total 8 columns):\n",
      " #   Column    Non-Null Count  Dtype \n",
      "---  ------    --------------  ----- \n",
      " 0   Wage      3907 non-null   object\n",
      " 1   Age       3907 non-null   int64 \n",
      " 2   Club      3907 non-null   object\n",
      " 3   League    3907 non-null   object\n",
      " 4   Nation    3907 non-null   object\n",
      " 5   Position  3907 non-null   object\n",
      " 6   Apps      3907 non-null   int64 \n",
      " 7   Caps      3907 non-null   int64 \n",
      "dtypes: int64(3), object(5)\n",
      "memory usage: 244.3+ KB\n"
     ]
    }
   ],
   "source": [
    "football.info()"
   ]
  },
  {
   "attachments": {},
   "cell_type": "markdown",
   "metadata": {},
   "source": [
    "1.4 Siendo más específica, analizo las columnas de mi dataframe. Usando el atributo dtype puedo ver que tipo de valores contienen las columnas de nuestro dataframe"
   ]
  },
  {
   "cell_type": "code",
   "execution_count": 7,
   "metadata": {},
   "outputs": [
    {
     "data": {
      "text/plain": [
       "Index(['Wage', 'Age', 'Club', 'League', 'Nation', 'Position', 'Apps', 'Caps'], dtype='object')"
      ]
     },
     "execution_count": 7,
     "metadata": {},
     "output_type": "execute_result"
    }
   ],
   "source": [
    "football.columns"
   ]
  },
  {
   "cell_type": "code",
   "execution_count": 6,
   "metadata": {},
   "outputs": [
    {
     "data": {
      "text/plain": [
       "Wage        object\n",
       "Age          int64\n",
       "Club        object\n",
       "League      object\n",
       "Nation      object\n",
       "Position    object\n",
       "Apps         int64\n",
       "Caps         int64\n",
       "dtype: object"
      ]
     },
     "execution_count": 6,
     "metadata": {},
     "output_type": "execute_result"
    }
   ],
   "source": [
    "football.dtypes"
   ]
  },
  {
   "attachments": {},
   "cell_type": "markdown",
   "metadata": {},
   "source": [
    "Etapa 2: Preparación de los Datos"
   ]
  },
  {
   "attachments": {},
   "cell_type": "markdown",
   "metadata": {},
   "source": [
    "2.1 Como primer etapa en la preparación de mis datos, decido evaluar el porcentaje de nulos, ya que eso me ayudará a decidir como seguir con la preparación, si podría eliminarlos o debo hacer otro tipo de preparación para esos valores"
   ]
  },
  {
   "cell_type": "code",
   "execution_count": 8,
   "metadata": {},
   "outputs": [
    {
     "name": "stdout",
     "output_type": "stream",
     "text": [
      "Wage        0.0\n",
      "Age         0.0\n",
      "Club        0.0\n",
      "League      0.0\n",
      "Nation      0.0\n",
      "Position    0.0\n",
      "Apps        0.0\n",
      "Caps        0.0\n",
      "dtype: float64\n"
     ]
    }
   ],
   "source": [
    "porcentaje_nulos = (football.isnull().sum() / len(football)) * 100\n",
    "print(porcentaje_nulos)\n"
   ]
  },
  {
   "cell_type": "code",
   "execution_count": 9,
   "metadata": {},
   "outputs": [
    {
     "data": {
      "text/html": [
       "<div>\n",
       "<style scoped>\n",
       "    .dataframe tbody tr th:only-of-type {\n",
       "        vertical-align: middle;\n",
       "    }\n",
       "\n",
       "    .dataframe tbody tr th {\n",
       "        vertical-align: top;\n",
       "    }\n",
       "\n",
       "    .dataframe thead th {\n",
       "        text-align: right;\n",
       "    }\n",
       "</style>\n",
       "<table border=\"1\" class=\"dataframe\">\n",
       "  <thead>\n",
       "    <tr style=\"text-align: right;\">\n",
       "      <th></th>\n",
       "      <th>Wage</th>\n",
       "      <th>Age</th>\n",
       "      <th>Club</th>\n",
       "      <th>League</th>\n",
       "      <th>Nation</th>\n",
       "      <th>Position</th>\n",
       "      <th>Apps</th>\n",
       "      <th>Caps</th>\n",
       "    </tr>\n",
       "  </thead>\n",
       "  <tbody>\n",
       "    <tr>\n",
       "      <th>0</th>\n",
       "      <td>46,427,000</td>\n",
       "      <td>23</td>\n",
       "      <td>PSG</td>\n",
       "      <td>Ligue 1 Uber Eats</td>\n",
       "      <td>FRA</td>\n",
       "      <td>Forward</td>\n",
       "      <td>190</td>\n",
       "      <td>57</td>\n",
       "    </tr>\n",
       "    <tr>\n",
       "      <th>1</th>\n",
       "      <td>42,125,000</td>\n",
       "      <td>30</td>\n",
       "      <td>PSG</td>\n",
       "      <td>Ligue 1 Uber Eats</td>\n",
       "      <td>BRA</td>\n",
       "      <td>Midfilder</td>\n",
       "      <td>324</td>\n",
       "      <td>119</td>\n",
       "    </tr>\n",
       "    <tr>\n",
       "      <th>2</th>\n",
       "      <td>34,821,000</td>\n",
       "      <td>35</td>\n",
       "      <td>PSG</td>\n",
       "      <td>Ligue 1 Uber Eats</td>\n",
       "      <td>ARG</td>\n",
       "      <td>Forward</td>\n",
       "      <td>585</td>\n",
       "      <td>162</td>\n",
       "    </tr>\n",
       "    <tr>\n",
       "      <th>3</th>\n",
       "      <td>19,959,000</td>\n",
       "      <td>31</td>\n",
       "      <td>R. Madrid</td>\n",
       "      <td>La Liga</td>\n",
       "      <td>BEL</td>\n",
       "      <td>Forward</td>\n",
       "      <td>443</td>\n",
       "      <td>120</td>\n",
       "    </tr>\n",
       "    <tr>\n",
       "      <th>4</th>\n",
       "      <td>19,500,000</td>\n",
       "      <td>31</td>\n",
       "      <td>Man UFC</td>\n",
       "      <td>Premier League</td>\n",
       "      <td>ESP</td>\n",
       "      <td>Goalkeeper</td>\n",
       "      <td>480</td>\n",
       "      <td>45</td>\n",
       "    </tr>\n",
       "    <tr>\n",
       "      <th>...</th>\n",
       "      <td>...</td>\n",
       "      <td>...</td>\n",
       "      <td>...</td>\n",
       "      <td>...</td>\n",
       "      <td>...</td>\n",
       "      <td>...</td>\n",
       "      <td>...</td>\n",
       "      <td>...</td>\n",
       "    </tr>\n",
       "    <tr>\n",
       "      <th>105</th>\n",
       "      <td>8,320,000</td>\n",
       "      <td>26</td>\n",
       "      <td>Man City</td>\n",
       "      <td>Premier League</td>\n",
       "      <td>ENG</td>\n",
       "      <td>Midfilder</td>\n",
       "      <td>221</td>\n",
       "      <td>23</td>\n",
       "    </tr>\n",
       "    <tr>\n",
       "      <th>106</th>\n",
       "      <td>8,320,000</td>\n",
       "      <td>24</td>\n",
       "      <td>Newcastle</td>\n",
       "      <td>Premier League</td>\n",
       "      <td>BRA</td>\n",
       "      <td>Midfilder</td>\n",
       "      <td>135</td>\n",
       "      <td>8</td>\n",
       "    </tr>\n",
       "    <tr>\n",
       "      <th>107</th>\n",
       "      <td>8,320,000</td>\n",
       "      <td>35</td>\n",
       "      <td>Leicester</td>\n",
       "      <td>Premier League</td>\n",
       "      <td>ENG</td>\n",
       "      <td>Forward</td>\n",
       "      <td>518</td>\n",
       "      <td>26</td>\n",
       "    </tr>\n",
       "    <tr>\n",
       "      <th>108</th>\n",
       "      <td>8,320,000</td>\n",
       "      <td>23</td>\n",
       "      <td>Liverpool</td>\n",
       "      <td>Premier League</td>\n",
       "      <td>ENG</td>\n",
       "      <td>Defender</td>\n",
       "      <td>168</td>\n",
       "      <td>17</td>\n",
       "    </tr>\n",
       "    <tr>\n",
       "      <th>109</th>\n",
       "      <td>8,290,000</td>\n",
       "      <td>28</td>\n",
       "      <td>A. Madrid</td>\n",
       "      <td>La Liga</td>\n",
       "      <td>NED</td>\n",
       "      <td>Forward</td>\n",
       "      <td>291</td>\n",
       "      <td>79</td>\n",
       "    </tr>\n",
       "  </tbody>\n",
       "</table>\n",
       "<p>110 rows × 8 columns</p>\n",
       "</div>"
      ],
      "text/plain": [
       "           Wage  Age       Club             League Nation    Position  Apps  \\\n",
       "0    46,427,000   23        PSG  Ligue 1 Uber Eats    FRA     Forward   190   \n",
       "1    42,125,000   30        PSG  Ligue 1 Uber Eats    BRA   Midfilder   324   \n",
       "2    34,821,000   35        PSG  Ligue 1 Uber Eats    ARG     Forward   585   \n",
       "3    19,959,000   31  R. Madrid            La Liga    BEL     Forward   443   \n",
       "4    19,500,000   31    Man UFC     Premier League    ESP  Goalkeeper   480   \n",
       "..          ...  ...        ...                ...    ...         ...   ...   \n",
       "105   8,320,000   26   Man City     Premier League    ENG   Midfilder   221   \n",
       "106   8,320,000   24  Newcastle     Premier League    BRA   Midfilder   135   \n",
       "107   8,320,000   35  Leicester     Premier League    ENG     Forward   518   \n",
       "108   8,320,000   23  Liverpool     Premier League    ENG    Defender   168   \n",
       "109   8,290,000   28  A. Madrid            La Liga    NED     Forward   291   \n",
       "\n",
       "     Caps  \n",
       "0      57  \n",
       "1     119  \n",
       "2     162  \n",
       "3     120  \n",
       "4      45  \n",
       "..    ...  \n",
       "105    23  \n",
       "106     8  \n",
       "107    26  \n",
       "108    17  \n",
       "109    79  \n",
       "\n",
       "[110 rows x 8 columns]"
      ]
     },
     "execution_count": 9,
     "metadata": {},
     "output_type": "execute_result"
    }
   ],
   "source": [
    "football.head(110)\n"
   ]
  },
  {
   "cell_type": "code",
   "execution_count": 10,
   "metadata": {},
   "outputs": [
    {
     "data": {
      "text/html": [
       "<div>\n",
       "<style scoped>\n",
       "    .dataframe tbody tr th:only-of-type {\n",
       "        vertical-align: middle;\n",
       "    }\n",
       "\n",
       "    .dataframe tbody tr th {\n",
       "        vertical-align: top;\n",
       "    }\n",
       "\n",
       "    .dataframe thead th {\n",
       "        text-align: right;\n",
       "    }\n",
       "</style>\n",
       "<table border=\"1\" class=\"dataframe\">\n",
       "  <thead>\n",
       "    <tr style=\"text-align: right;\">\n",
       "      <th></th>\n",
       "      <th>Wage</th>\n",
       "      <th>Age</th>\n",
       "      <th>Club</th>\n",
       "      <th>League</th>\n",
       "      <th>Nation</th>\n",
       "      <th>Position</th>\n",
       "      <th>Apps</th>\n",
       "      <th>Caps</th>\n",
       "    </tr>\n",
       "  </thead>\n",
       "  <tbody>\n",
       "    <tr>\n",
       "      <th>3902</th>\n",
       "      <td>3,400</td>\n",
       "      <td>19</td>\n",
       "      <td>Vigo</td>\n",
       "      <td>La Liga</td>\n",
       "      <td>ESP</td>\n",
       "      <td>Defender</td>\n",
       "      <td>0</td>\n",
       "      <td>0</td>\n",
       "    </tr>\n",
       "    <tr>\n",
       "      <th>3903</th>\n",
       "      <td>3,200</td>\n",
       "      <td>18</td>\n",
       "      <td>Famalicao</td>\n",
       "      <td>Primiera Liga</td>\n",
       "      <td>BRA</td>\n",
       "      <td>Goalkeeper</td>\n",
       "      <td>0</td>\n",
       "      <td>0</td>\n",
       "    </tr>\n",
       "    <tr>\n",
       "      <th>3904</th>\n",
       "      <td>2,900</td>\n",
       "      <td>18</td>\n",
       "      <td>Vigo</td>\n",
       "      <td>La Liga</td>\n",
       "      <td>ESP</td>\n",
       "      <td>Forward</td>\n",
       "      <td>0</td>\n",
       "      <td>0</td>\n",
       "    </tr>\n",
       "    <tr>\n",
       "      <th>3905</th>\n",
       "      <td>2,700</td>\n",
       "      <td>18</td>\n",
       "      <td>Vigo</td>\n",
       "      <td>La Liga</td>\n",
       "      <td>ESP</td>\n",
       "      <td>Defender</td>\n",
       "      <td>0</td>\n",
       "      <td>0</td>\n",
       "    </tr>\n",
       "    <tr>\n",
       "      <th>3906</th>\n",
       "      <td>1,400</td>\n",
       "      <td>18</td>\n",
       "      <td>Vigo</td>\n",
       "      <td>La Liga</td>\n",
       "      <td>ESP</td>\n",
       "      <td>Defender</td>\n",
       "      <td>0</td>\n",
       "      <td>0</td>\n",
       "    </tr>\n",
       "  </tbody>\n",
       "</table>\n",
       "</div>"
      ],
      "text/plain": [
       "       Wage  Age       Club         League Nation    Position  Apps  Caps\n",
       "3902  3,400   19       Vigo        La Liga    ESP    Defender     0     0\n",
       "3903  3,200   18  Famalicao  Primiera Liga    BRA  Goalkeeper     0     0\n",
       "3904  2,900   18       Vigo        La Liga    ESP     Forward     0     0\n",
       "3905  2,700   18       Vigo        La Liga    ESP    Defender     0     0\n",
       "3906  1,400   18       Vigo        La Liga    ESP    Defender     0     0"
      ]
     },
     "execution_count": 10,
     "metadata": {},
     "output_type": "execute_result"
    }
   ],
   "source": [
    "football.tail()\n"
   ]
  },
  {
   "attachments": {},
   "cell_type": "markdown",
   "metadata": {},
   "source": [
    "2.2 Considerando que no tengo valores nulos significativos, sigo eliminando filas con datos faltantes como solicitado en la consigna"
   ]
  },
  {
   "cell_type": "code",
   "execution_count": 11,
   "metadata": {},
   "outputs": [
    {
     "name": "stdout",
     "output_type": "stream",
     "text": [
      "            Wage  Age       Club             League Nation    Position  Apps  \\\n",
      "0     46,427,000   23        PSG  Ligue 1 Uber Eats    FRA     Forward   190   \n",
      "1     42,125,000   30        PSG  Ligue 1 Uber Eats    BRA   Midfilder   324   \n",
      "2     34,821,000   35        PSG  Ligue 1 Uber Eats    ARG     Forward   585   \n",
      "3     19,959,000   31  R. Madrid            La Liga    BEL     Forward   443   \n",
      "4     19,500,000   31    Man UFC     Premier League    ESP  Goalkeeper   480   \n",
      "...          ...  ...        ...                ...    ...         ...   ...   \n",
      "3902       3,400   19       Vigo            La Liga    ESP    Defender     0   \n",
      "3903       3,200   18  Famalicao      Primiera Liga    BRA  Goalkeeper     0   \n",
      "3904       2,900   18       Vigo            La Liga    ESP     Forward     0   \n",
      "3905       2,700   18       Vigo            La Liga    ESP    Defender     0   \n",
      "3906       1,400   18       Vigo            La Liga    ESP    Defender     0   \n",
      "\n",
      "      Caps  \n",
      "0       57  \n",
      "1      119  \n",
      "2      162  \n",
      "3      120  \n",
      "4       45  \n",
      "...    ...  \n",
      "3902     0  \n",
      "3903     0  \n",
      "3904     0  \n",
      "3905     0  \n",
      "3906     0  \n",
      "\n",
      "[3907 rows x 8 columns]\n"
     ]
    }
   ],
   "source": [
    "football_cleaned = football.dropna(subset=['Wage', 'Age'])\n",
    "print(football_cleaned)"
   ]
  },
  {
   "attachments": {},
   "cell_type": "markdown",
   "metadata": {},
   "source": [
    "2.3 Paso ahora a convertir la columna 'Wage' a tipo de datos flotantes. Y esa será la version final que usaremos para seguir el trabajo. En un primer intento tuve un error ya que algunos valores estaban en formato de moneda con comas como separadores, entonces uso un código que primero entonces transforma todos los posibles valores que se presenten de esa manera paa entonces convertir a float."
   ]
  },
  {
   "cell_type": "code",
   "execution_count": 13,
   "metadata": {},
   "outputs": [],
   "source": [
    "football_cleaned['Wage'] = football_cleaned['Wage'].replace('[\\$,]', '', regex=True).astype(float)"
   ]
  },
  {
   "cell_type": "code",
   "execution_count": 15,
   "metadata": {},
   "outputs": [
    {
     "data": {
      "text/html": [
       "<div>\n",
       "<style scoped>\n",
       "    .dataframe tbody tr th:only-of-type {\n",
       "        vertical-align: middle;\n",
       "    }\n",
       "\n",
       "    .dataframe tbody tr th {\n",
       "        vertical-align: top;\n",
       "    }\n",
       "\n",
       "    .dataframe thead th {\n",
       "        text-align: right;\n",
       "    }\n",
       "</style>\n",
       "<table border=\"1\" class=\"dataframe\">\n",
       "  <thead>\n",
       "    <tr style=\"text-align: right;\">\n",
       "      <th></th>\n",
       "      <th>Wage</th>\n",
       "      <th>Age</th>\n",
       "      <th>Club</th>\n",
       "      <th>League</th>\n",
       "      <th>Nation</th>\n",
       "      <th>Position</th>\n",
       "      <th>Apps</th>\n",
       "      <th>Caps</th>\n",
       "    </tr>\n",
       "  </thead>\n",
       "  <tbody>\n",
       "    <tr>\n",
       "      <th>0</th>\n",
       "      <td>46427000.0</td>\n",
       "      <td>23</td>\n",
       "      <td>PSG</td>\n",
       "      <td>Ligue 1 Uber Eats</td>\n",
       "      <td>FRA</td>\n",
       "      <td>Forward</td>\n",
       "      <td>190</td>\n",
       "      <td>57</td>\n",
       "    </tr>\n",
       "    <tr>\n",
       "      <th>1</th>\n",
       "      <td>42125000.0</td>\n",
       "      <td>30</td>\n",
       "      <td>PSG</td>\n",
       "      <td>Ligue 1 Uber Eats</td>\n",
       "      <td>BRA</td>\n",
       "      <td>Midfilder</td>\n",
       "      <td>324</td>\n",
       "      <td>119</td>\n",
       "    </tr>\n",
       "    <tr>\n",
       "      <th>2</th>\n",
       "      <td>34821000.0</td>\n",
       "      <td>35</td>\n",
       "      <td>PSG</td>\n",
       "      <td>Ligue 1 Uber Eats</td>\n",
       "      <td>ARG</td>\n",
       "      <td>Forward</td>\n",
       "      <td>585</td>\n",
       "      <td>162</td>\n",
       "    </tr>\n",
       "    <tr>\n",
       "      <th>3</th>\n",
       "      <td>19959000.0</td>\n",
       "      <td>31</td>\n",
       "      <td>R. Madrid</td>\n",
       "      <td>La Liga</td>\n",
       "      <td>BEL</td>\n",
       "      <td>Forward</td>\n",
       "      <td>443</td>\n",
       "      <td>120</td>\n",
       "    </tr>\n",
       "    <tr>\n",
       "      <th>4</th>\n",
       "      <td>19500000.0</td>\n",
       "      <td>31</td>\n",
       "      <td>Man UFC</td>\n",
       "      <td>Premier League</td>\n",
       "      <td>ESP</td>\n",
       "      <td>Goalkeeper</td>\n",
       "      <td>480</td>\n",
       "      <td>45</td>\n",
       "    </tr>\n",
       "    <tr>\n",
       "      <th>5</th>\n",
       "      <td>18810000.0</td>\n",
       "      <td>30</td>\n",
       "      <td>R. Madrid</td>\n",
       "      <td>La Liga</td>\n",
       "      <td>AUT</td>\n",
       "      <td>Defender</td>\n",
       "      <td>371</td>\n",
       "      <td>94</td>\n",
       "    </tr>\n",
       "    <tr>\n",
       "      <th>6</th>\n",
       "      <td>18200000.0</td>\n",
       "      <td>29</td>\n",
       "      <td>Inter</td>\n",
       "      <td>Serie A</td>\n",
       "      <td>BEL</td>\n",
       "      <td>Forward</td>\n",
       "      <td>427</td>\n",
       "      <td>102</td>\n",
       "    </tr>\n",
       "    <tr>\n",
       "      <th>7</th>\n",
       "      <td>18200000.0</td>\n",
       "      <td>30</td>\n",
       "      <td>Liverpool</td>\n",
       "      <td>Premier League</td>\n",
       "      <td>EGY</td>\n",
       "      <td>Forward</td>\n",
       "      <td>367</td>\n",
       "      <td>85</td>\n",
       "    </tr>\n",
       "    <tr>\n",
       "      <th>8</th>\n",
       "      <td>18200000.0</td>\n",
       "      <td>27</td>\n",
       "      <td>Chelsea</td>\n",
       "      <td>Premier League</td>\n",
       "      <td>ENG</td>\n",
       "      <td>Midfilder</td>\n",
       "      <td>326</td>\n",
       "      <td>77</td>\n",
       "    </tr>\n",
       "    <tr>\n",
       "      <th>9</th>\n",
       "      <td>18200000.0</td>\n",
       "      <td>29</td>\n",
       "      <td>Man UFC</td>\n",
       "      <td>Premier League</td>\n",
       "      <td>FRA</td>\n",
       "      <td>Defender</td>\n",
       "      <td>287</td>\n",
       "      <td>86</td>\n",
       "    </tr>\n",
       "    <tr>\n",
       "      <th>10</th>\n",
       "      <td>17680000.0</td>\n",
       "      <td>31</td>\n",
       "      <td>Man City</td>\n",
       "      <td>Premier League</td>\n",
       "      <td>BEL</td>\n",
       "      <td>Midfilder</td>\n",
       "      <td>399</td>\n",
       "      <td>91</td>\n",
       "    </tr>\n",
       "    <tr>\n",
       "      <th>11</th>\n",
       "      <td>17680000.0</td>\n",
       "      <td>22</td>\n",
       "      <td>Man City</td>\n",
       "      <td>Premier League</td>\n",
       "      <td>NOR</td>\n",
       "      <td>Forward</td>\n",
       "      <td>159</td>\n",
       "      <td>21</td>\n",
       "    </tr>\n",
       "    <tr>\n",
       "      <th>12</th>\n",
       "      <td>16121000.0</td>\n",
       "      <td>32</td>\n",
       "      <td>R. Madrid</td>\n",
       "      <td>La Liga</td>\n",
       "      <td>GER</td>\n",
       "      <td>Midfilder</td>\n",
       "      <td>433</td>\n",
       "      <td>105</td>\n",
       "    </tr>\n",
       "    <tr>\n",
       "      <th>13</th>\n",
       "      <td>15965000.0</td>\n",
       "      <td>29</td>\n",
       "      <td>A. Madrid</td>\n",
       "      <td>La Liga</td>\n",
       "      <td>SVN</td>\n",
       "      <td>Goalkeeper</td>\n",
       "      <td>368</td>\n",
       "      <td>50</td>\n",
       "    </tr>\n",
       "    <tr>\n",
       "      <th>14</th>\n",
       "      <td>15600000.0</td>\n",
       "      <td>31</td>\n",
       "      <td>Chelsea</td>\n",
       "      <td>Premier League</td>\n",
       "      <td>SEN</td>\n",
       "      <td>Defender</td>\n",
       "      <td>347</td>\n",
       "      <td>61</td>\n",
       "    </tr>\n",
       "    <tr>\n",
       "      <th>15</th>\n",
       "      <td>15600000.0</td>\n",
       "      <td>30</td>\n",
       "      <td>Man UFC</td>\n",
       "      <td>Premier League</td>\n",
       "      <td>BRA</td>\n",
       "      <td>Midfilder</td>\n",
       "      <td>328</td>\n",
       "      <td>63</td>\n",
       "    </tr>\n",
       "    <tr>\n",
       "      <th>16</th>\n",
       "      <td>15476000.0</td>\n",
       "      <td>30</td>\n",
       "      <td>FC Bayern</td>\n",
       "      <td>Bundesliga</td>\n",
       "      <td>SEN</td>\n",
       "      <td>Forward</td>\n",
       "      <td>355</td>\n",
       "      <td>87</td>\n",
       "    </tr>\n",
       "    <tr>\n",
       "      <th>17</th>\n",
       "      <td>15476000.0</td>\n",
       "      <td>34</td>\n",
       "      <td>Barcelona</td>\n",
       "      <td>La Liga</td>\n",
       "      <td>POL</td>\n",
       "      <td>Forward</td>\n",
       "      <td>506</td>\n",
       "      <td>132</td>\n",
       "    </tr>\n",
       "    <tr>\n",
       "      <th>18</th>\n",
       "      <td>15080000.0</td>\n",
       "      <td>31</td>\n",
       "      <td>Chelsea</td>\n",
       "      <td>Premier League</td>\n",
       "      <td>FRA</td>\n",
       "      <td>Midfilder</td>\n",
       "      <td>350</td>\n",
       "      <td>53</td>\n",
       "    </tr>\n",
       "    <tr>\n",
       "      <th>19</th>\n",
       "      <td>15046000.0</td>\n",
       "      <td>32</td>\n",
       "      <td>FC Bayern</td>\n",
       "      <td>Bundesliga</td>\n",
       "      <td>GER</td>\n",
       "      <td>Midfilder</td>\n",
       "      <td>457</td>\n",
       "      <td>115</td>\n",
       "    </tr>\n",
       "  </tbody>\n",
       "</table>\n",
       "</div>"
      ],
      "text/plain": [
       "          Wage  Age       Club             League Nation    Position  Apps  \\\n",
       "0   46427000.0   23        PSG  Ligue 1 Uber Eats    FRA     Forward   190   \n",
       "1   42125000.0   30        PSG  Ligue 1 Uber Eats    BRA   Midfilder   324   \n",
       "2   34821000.0   35        PSG  Ligue 1 Uber Eats    ARG     Forward   585   \n",
       "3   19959000.0   31  R. Madrid            La Liga    BEL     Forward   443   \n",
       "4   19500000.0   31    Man UFC     Premier League    ESP  Goalkeeper   480   \n",
       "5   18810000.0   30  R. Madrid            La Liga    AUT    Defender   371   \n",
       "6   18200000.0   29      Inter            Serie A    BEL     Forward   427   \n",
       "7   18200000.0   30  Liverpool     Premier League    EGY     Forward   367   \n",
       "8   18200000.0   27    Chelsea     Premier League    ENG   Midfilder   326   \n",
       "9   18200000.0   29    Man UFC     Premier League    FRA    Defender   287   \n",
       "10  17680000.0   31   Man City     Premier League    BEL   Midfilder   399   \n",
       "11  17680000.0   22   Man City     Premier League    NOR     Forward   159   \n",
       "12  16121000.0   32  R. Madrid            La Liga    GER   Midfilder   433   \n",
       "13  15965000.0   29  A. Madrid            La Liga    SVN  Goalkeeper   368   \n",
       "14  15600000.0   31    Chelsea     Premier League    SEN    Defender   347   \n",
       "15  15600000.0   30    Man UFC     Premier League    BRA   Midfilder   328   \n",
       "16  15476000.0   30  FC Bayern         Bundesliga    SEN     Forward   355   \n",
       "17  15476000.0   34  Barcelona            La Liga    POL     Forward   506   \n",
       "18  15080000.0   31    Chelsea     Premier League    FRA   Midfilder   350   \n",
       "19  15046000.0   32  FC Bayern         Bundesliga    GER   Midfilder   457   \n",
       "\n",
       "    Caps  \n",
       "0     57  \n",
       "1    119  \n",
       "2    162  \n",
       "3    120  \n",
       "4     45  \n",
       "5     94  \n",
       "6    102  \n",
       "7     85  \n",
       "8     77  \n",
       "9     86  \n",
       "10    91  \n",
       "11    21  \n",
       "12   105  \n",
       "13    50  \n",
       "14    61  \n",
       "15    63  \n",
       "16    87  \n",
       "17   132  \n",
       "18    53  \n",
       "19   115  "
      ]
     },
     "execution_count": 15,
     "metadata": {},
     "output_type": "execute_result"
    }
   ],
   "source": [
    "football_cleaned.head(20)\n"
   ]
  },
  {
   "cell_type": "code",
   "execution_count": 16,
   "metadata": {},
   "outputs": [
    {
     "data": {
      "text/plain": [
       "Wage        float64\n",
       "Age           int64\n",
       "Club         object\n",
       "League       object\n",
       "Nation       object\n",
       "Position     object\n",
       "Apps          int64\n",
       "Caps          int64\n",
       "dtype: object"
      ]
     },
     "execution_count": 16,
     "metadata": {},
     "output_type": "execute_result"
    }
   ],
   "source": [
    "football_cleaned.dtypes"
   ]
  },
  {
   "attachments": {},
   "cell_type": "markdown",
   "metadata": {},
   "source": [
    "Etapa 3: Análisis de los datos"
   ]
  },
  {
   "attachments": {},
   "cell_type": "markdown",
   "metadata": {},
   "source": [
    "3.1 Utilicé un código que primero agrupa por liga e calcula estadisticas descriptivas a partir de los valores 'Wage'. Seguí cambiando el nombre de las columnas para español para una mayor claridad y entonces imprimí las estadisticas por liga"
   ]
  },
  {
   "cell_type": "code",
   "execution_count": 20,
   "metadata": {},
   "outputs": [
    {
     "name": "stdout",
     "output_type": "stream",
     "text": [
      "                          Media    Mediana  Desviación Estándar       Rango\n",
      "League                                                                     \n",
      "Bundesliga         1.405219e+06   672000.0         2.312271e+06  15462750.0\n",
      "La Liga            1.520235e+06   509000.0         2.809853e+06  19957600.0\n",
      "Ligue 1 Uber Eats  1.237427e+06   441000.0         3.618485e+06  46398000.0\n",
      "Premier League     2.335982e+06  1560000.0         3.032268e+06  19492500.0\n",
      "Primiera Liga      1.948266e+05    74000.0         4.510917e+05   6874800.0\n",
      "Serie A            1.336126e+06   713000.0         1.903123e+06  18191500.0\n"
     ]
    }
   ],
   "source": [
    "# Agrupar por liga y calcular estadísticas descriptivas para 'Wage'\n",
    "estadisticas_por_liga = football_cleaned.groupby('League')['Wage'].agg(['mean', 'median', 'std', lambda x: x.max() - x.min()])\n",
    "\n",
    "# Renombrar las columnas para mayor claridad\n",
    "estadisticas_por_liga.columns = ['Media', 'Mediana', 'Desviación Estándar', 'Rango']\n",
    "\n",
    "# Mostrar las estadísticas por liga\n",
    "print(estadisticas_por_liga)"
   ]
  },
  {
   "attachments": {},
   "cell_type": "markdown",
   "metadata": {},
   "source": [
    "3.2 Son muchas las análisis que podríamos realizar considerando los datos. Este código proporciona:\n",
    "- La correlación entre salario y edad para entender la relación lineal entre estas dos variables.\n",
    "- Estadísticas sobre el salario agrupado por nacionalidad, posición y club, incluyendo la media, máximo, mínimo y la cantidad de jugadores en cada grupo.\n",
    "- Identificación del club que paga mejor y peor en promedio."
   ]
  },
  {
   "cell_type": "code",
   "execution_count": 21,
   "metadata": {},
   "outputs": [
    {
     "name": "stdout",
     "output_type": "stream",
     "text": [
      "Correlación entre salario y edad:\n",
      "           Wage       Age\n",
      "Wage  1.000000  0.317644\n",
      "Age   0.317644  1.000000 \n",
      "\n"
     ]
    }
   ],
   "source": [
    "relacion_salario_edad = football_cleaned[['Wage', 'Age']].corr()\n",
    "print(\"Correlación entre salario y edad:\\n\", relacion_salario_edad, \"\\n\")"
   ]
  },
  {
   "cell_type": "code",
   "execution_count": 22,
   "metadata": {},
   "outputs": [
    {
     "name": "stdout",
     "output_type": "stream",
     "text": [
      "Salario agrupado por nacionalidad:\n",
      "                 mean         max        min  count\n",
      "Nation                                            \n",
      "CTA     5.588000e+06   5588000.0  5588000.0      1\n",
      "DOM     5.527000e+06   5527000.0  5527000.0      1\n",
      "EGY     3.867000e+06  18200000.0    30500.0      6\n",
      "BEL     3.438131e+06  19959000.0    18250.0     44\n",
      "GAB     2.936875e+06   8840000.0    37500.0      4\n",
      "CRC     2.724500e+06  10317000.0    29000.0      4\n",
      "ARG     2.520250e+06  34821000.0    13000.0     80\n",
      "ARM     2.379500e+06   4199000.0   560000.0      2\n",
      "CRO     2.283643e+06  14432000.0    31000.0     42\n",
      "NZL     2.205000e+06   4160000.0   250000.0      2 \n",
      "\n"
     ]
    }
   ],
   "source": [
    "# Salario agrupado por nacionalidad\n",
    "salario_por_nacionalidad = football_cleaned.groupby('Nation')['Wage'].agg(['mean', 'max', 'min', 'count'])\n",
    "salario_por_nacionalidad = salario_por_nacionalidad.sort_values(by='mean', ascending=False)\n",
    "print(\"Salario agrupado por nacionalidad:\\n\", salario_por_nacionalidad.head(10), \"\\n\")"
   ]
  },
  {
   "cell_type": "code",
   "execution_count": 23,
   "metadata": {},
   "outputs": [
    {
     "name": "stdout",
     "output_type": "stream",
     "text": [
      "Salario agrupado por posición:\n",
      "                     mean         max     min  count\n",
      "Position                                           \n",
      "Midfilder   1.603824e+06  42125000.0  5250.0   1160\n",
      "Forward     1.342720e+06  46427000.0  2900.0    827\n",
      "Defender    1.299439e+06  18810000.0  1400.0   1490\n",
      "Goalkeeper  1.017645e+06  19500000.0  3200.0    430 \n",
      "\n"
     ]
    }
   ],
   "source": [
    "# Salario agrupado por posición\n",
    "salario_por_posicion = football_cleaned.groupby('Position')['Wage'].agg(['mean', 'max', 'min', 'count'])\n",
    "salario_por_posicion = salario_por_posicion.sort_values(by='mean', ascending=False)\n",
    "print(\"Salario agrupado por posición:\\n\", salario_por_posicion.head(10), \"\\n\")"
   ]
  },
  {
   "cell_type": "code",
   "execution_count": 24,
   "metadata": {},
   "outputs": [
    {
     "name": "stdout",
     "output_type": "stream",
     "text": [
      "Salario agrupado por club:\n",
      "                            mean         max        min  count\n",
      "Club                                                         \n",
      "PSG                1.104668e+07  46427000.0    45500.0     20\n",
      "R. Madrid          9.128783e+06  19959000.0  1090000.0     23\n",
      "FC Bayern          8.708043e+06  15476000.0    43000.0     23\n",
      "Barcelona          6.313604e+06  15476000.0    28000.0     24\n",
      "Man UFC            4.622174e+06  19500000.0    39000.0     46\n",
      "Man City           4.526184e+06  17680000.0    31000.0     38\n",
      "Chelsea            4.246630e+06  18200000.0    52000.0     54\n",
      "Juventus           4.120172e+06  11173000.0    18500.0     32\n",
      "A. Madrid          4.096265e+06  15965000.0    13000.0     34\n",
      "Borussia Dortmund  3.907577e+06   9457000.0    29000.0     26 \n",
      "\n",
      "Club que paga mejor:\n",
      " PSG\n",
      "Club que paga peor:\n",
      " VIZ\n"
     ]
    }
   ],
   "source": [
    "# Salario agrupado por club\n",
    "salario_por_club = football_cleaned.groupby('Club')['Wage'].agg(['mean', 'max', 'min', 'count'])\n",
    "salario_por_club = salario_por_club.sort_values(by='mean', ascending=False)\n",
    "print(\"Salario agrupado por club:\\n\", salario_por_club.head(10), \"\\n\")\n",
    "print(\"Club que paga mejor:\\n\", salario_por_club['mean'].idxmax())\n",
    "print(\"Club que paga peor:\\n\", salario_por_club['mean'].idxmin())"
   ]
  },
  {
   "attachments": {},
   "cell_type": "markdown",
   "metadata": {},
   "source": [
    "Etapa 4: Presentación de los resultados"
   ]
  },
  {
   "attachments": {},
   "cell_type": "markdown",
   "metadata": {},
   "source": [
    "4.1 En la etapa de presentación de los resultados, utilizaré seaborn y matplotlib para crear graficos interesantes de toda la información encontrada. Primero voy a establecer el estilo de seaborn y entonces crear un gráfico con la relación entre salario y edad"
   ]
  },
  {
   "cell_type": "code",
   "execution_count": 25,
   "metadata": {},
   "outputs": [
    {
     "data": {
      "image/png": "[encoded data removed]",
      "text/plain": [
       "<Figure size 1200x600 with 1 Axes>"
      ]
     },
     "metadata": {},
     "output_type": "display_data"
    }
   ],
   "source": [
    "sns.set(style=\"whitegrid\")\n",
    "\n",
    "plt.figure(figsize=(12, 6))\n",
    "sns.scatterplot(x='Age', y='Wage', data=football_cleaned)\n",
    "plt.title('Relación entre Salario y Edad')\n",
    "plt.xlabel('Edad')\n",
    "plt.ylabel('Salario')\n",
    "plt.show()"
   ]
  },
  {
   "attachments": {},
   "cell_type": "markdown",
   "metadata": {},
   "source": [
    "Utilizo un boxplot para comparar salários por posición"
   ]
  },
  {
   "cell_type": "code",
   "execution_count": 26,
   "metadata": {},
   "outputs": [
    {
     "data": {
      "image/png": "[encoded data removed]",
      "text/plain": [
       "<Figure size 1600x800 with 1 Axes>"
      ]
     },
     "metadata": {},
     "output_type": "display_data"
    }
   ],
   "source": [
    "plt.figure(figsize=(16, 8))\n",
    "sns.boxplot(x='Position', y='Wage', data=football_cleaned)\n",
    "plt.title('Distribución de Salarios por Posición')\n",
    "plt.xlabel('Posición')\n",
    "plt.ylabel('Salario')\n",
    "plt.xticks(rotation=45, ha='right')\n",
    "plt.show()"
   ]
  },
  {
   "attachments": {},
   "cell_type": "markdown",
   "metadata": {},
   "source": [
    "Boxplot para mostrar los 10 clubes con mejores salarios"
   ]
  },
  {
   "cell_type": "code",
   "execution_count": 31,
   "metadata": {},
   "outputs": [
    {
     "data": {
      "image/png": "[encoded data removed]",
      "text/plain": [
       "<Figure size 1600x800 with 1 Axes>"
      ]
     },
     "metadata": {},
     "output_type": "display_data"
    }
   ],
   "source": [
    "top_clubes = football_cleaned.groupby('Club')['Wage'].mean().nlargest(10).index\n",
    "football_filtered_clubs = football_cleaned[football_cleaned['Club'].isin(top_clubes)]\n",
    "plt.figure(figsize=(16, 8))\n",
    "sns.boxplot(x='Club', y='Wage', data=football_filtered_clubs, order=top_clubes)\n",
    "plt.title('Distribución de Salarios por Club (Top 10)')\n",
    "plt.xlabel('Club')\n",
    "plt.ylabel('Salario')\n",
    "plt.xticks(rotation=45, ha='right')\n",
    "plt.show()\n"
   ]
  },
  {
   "attachments": {},
   "cell_type": "markdown",
   "metadata": {},
   "source": [
    "Heatmap de correlación entre variables numéricas"
   ]
  },
  {
   "cell_type": "code",
   "execution_count": 28,
   "metadata": {},
   "outputs": [
    {
     "data": {
      "image/png": "[encoded data removed]",
      "text/plain": [
       "<Figure size 800x600 with 2 Axes>"
      ]
     },
     "metadata": {},
     "output_type": "display_data"
    }
   ],
   "source": [
    "\n",
    "correlation_matrix = football_cleaned[['Wage', 'Age']].corr()\n",
    "plt.figure(figsize=(8, 6))\n",
    "sns.heatmap(correlation_matrix, annot=True, cmap='coolwarm', fmt=\".2f\")\n",
    "plt.title('Correlación entre Salario y Edad')\n",
    "plt.show()\n"
   ]
  },
  {
   "attachments": {},
   "cell_type": "markdown",
   "metadata": {},
   "source": [
    "Countplot para mostrar las 10 nacionalidades con más jugadores en la liga"
   ]
  },
  {
   "cell_type": "code",
   "execution_count": 30,
   "metadata": {},
   "outputs": [
    {
     "data": {
      "image/png": "[encoded data removed]",
      "text/plain": [
       "<Figure size 1600x800 with 1 Axes>"
      ]
     },
     "metadata": {},
     "output_type": "display_data"
    }
   ],
   "source": [
    "top_nacionalidades = football_cleaned['Nation'].value_counts().head(10).index\n",
    "football_filtered_nationalities = football_cleaned[football_cleaned['Nation'].isin(top_nacionalidades)]\n",
    "plt.figure(figsize=(16, 8))\n",
    "sns.countplot(x='Nation', data=football_filtered_nationalities, order=top_nacionalidades)\n",
    "plt.title('Cantidad de Jugadores por Nacionalidad (Top 10)')\n",
    "plt.xlabel('Nacionalidad')\n",
    "plt.ylabel('Cantidad de Jugadores')\n",
    "plt.xticks(rotation=45, ha='right')\n",
    "plt.show()"
   ]
  }
 ],
 "metadata": {
  "kernelspec": {
   "display_name": "Python 3",
   "language": "python",
   "name": "python3"
  },
  "language_info": {
   "codemirror_mode": {
    "name": "ipython",
    "version": 3
   },
   "file_extension": ".py",
   "mimetype": "text/x-python",
   "name": "python",
   "nbconvert_exporter": "python",
   "pygments_lexer": "ipython3",
   "version": "3.10.10"
  }
 },
 "nbformat": 4,
 "nbformat_minor": 2
}
